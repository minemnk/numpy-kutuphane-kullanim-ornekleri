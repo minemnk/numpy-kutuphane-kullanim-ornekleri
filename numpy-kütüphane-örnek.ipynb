{
 "cells": [
  {
   "cell_type": "code",
   "execution_count": 1,
   "id": "73c513b9-fe57-4f15-a97b-9a43eff7032a",
   "metadata": {},
   "outputs": [],
   "source": [
    "import numpy as np"
   ]
  },
  {
   "cell_type": "code",
   "execution_count": 7,
   "id": "5f90a71d-ed2f-4e41-81f9-0256c01b667e",
   "metadata": {},
   "outputs": [
    {
     "name": "stdout",
     "output_type": "stream",
     "text": [
      "[1 2 3]\n"
     ]
    }
   ],
   "source": [
    "###np.array(): Bir dizi oluşturur.\n",
    "arr = np.array([1, 2, 3])\n",
    "print(arr) "
   ]
  },
  {
   "cell_type": "code",
   "execution_count": 9,
   "id": "baa91c2d-98a1-4470-acbc-d94f0212e1ed",
   "metadata": {},
   "outputs": [
    {
     "name": "stdout",
     "output_type": "stream",
     "text": [
      "[[0. 0. 0.]\n",
      " [0. 0. 0.]]\n"
     ]
    }
   ],
   "source": [
    "###np.zeros(): Belirtilen şekilde sıfırlarla dolu bir dizi oluşturur.\n",
    " \n",
    "zeros_arr = np.zeros((2, 3))\n",
    "print(zeros_arr)"
   ]
  },
  {
   "cell_type": "code",
   "execution_count": 11,
   "id": "e7a7a01a-2551-4dcf-8180-d45ad021eda6",
   "metadata": {},
   "outputs": [
    {
     "name": "stdout",
     "output_type": "stream",
     "text": [
      "[[1. 1. 1.]\n",
      " [1. 1. 1.]]\n"
     ]
    }
   ],
   "source": [
    "###np.ones(): Belirtilen şekilde birlerle dolu bir dizi oluşturur.\n",
    " \n",
    "ones_arr = np.ones((2, 3))\n",
    "print(ones_arr)"
   ]
  },
  {
   "cell_type": "code",
   "execution_count": 15,
   "id": "90bb8d4d-d966-4a72-8035-c88118075771",
   "metadata": {},
   "outputs": [
    {
     "name": "stdout",
     "output_type": "stream",
     "text": [
      "[[0.41272515 0.66267051]\n",
      " [0.67623337 0.4869906 ]\n",
      " [0.09801977 0.4608378 ]]\n"
     ]
    }
   ],
   "source": [
    "##np.random.rand(): Belirtilen şekilde rastgele sayılar içeren bir dizi oluşturur (0 ile 1 arasında).\n",
    " \n",
    "rand_arr = np.random.rand(3, 2)\n",
    "print(rand_arr)"
   ]
  },
  {
   "cell_type": "code",
   "execution_count": 17,
   "id": "abce1483-3af7-4233-be16-0da0f888374a",
   "metadata": {},
   "outputs": [
    {
     "name": "stdout",
     "output_type": "stream",
     "text": [
      "[[1 2 3]\n",
      " [4 5 6]]\n"
     ]
    }
   ],
   "source": [
    "####np.reshape(): Bir dizinin şeklini değiştirir.\n",
    " \n",
    "arr = np.array([1, 2, 3, 4, 5, 6])\n",
    "reshaped_arr = arr.reshape(2, 3)\n",
    "print(reshaped_arr)"
   ]
  },
  {
   "cell_type": "code",
   "execution_count": 19,
   "id": "6c331648-3f35-4be2-bda3-f73cd187e8e2",
   "metadata": {},
   "outputs": [
    {
     "name": "stdout",
     "output_type": "stream",
     "text": [
      "int32\n"
     ]
    }
   ],
   "source": [
    "###np.dtype(): Bir dizinin veri tipini döndürür.\n",
    " \n",
    "arr = np.array([1, 2, 3])\n",
    "dtype = arr.dtype\n",
    "print(dtype) "
   ]
  },
  {
   "cell_type": "code",
   "execution_count": 21,
   "id": "449bcff7-a3f6-4a64-af23-abb6f2688fb5",
   "metadata": {},
   "outputs": [
    {
     "name": "stdout",
     "output_type": "stream",
     "text": [
      "6\n"
     ]
    }
   ],
   "source": [
    "###np.sum(): Bir dizinin tüm elemanlarının toplamını döndürür.\n",
    " \n",
    "arr = np.array([1, 2, 3])\n",
    "sum_val = np.sum(arr)\n",
    "print(sum_val)"
   ]
  },
  {
   "cell_type": "code",
   "execution_count": 23,
   "id": "ede1c85f-f329-43d6-b0f1-b1152217eeb6",
   "metadata": {},
   "outputs": [
    {
     "name": "stdout",
     "output_type": "stream",
     "text": [
      "3\n"
     ]
    }
   ],
   "source": [
    "###np.max(): Bir dizinin maksimum elemanını döndürür.\n",
    " \n",
    "arr = np.array([1, 2, 3])\n",
    "max_val = np.max(arr)\n",
    "print(max_val)"
   ]
  },
  {
   "cell_type": "code",
   "execution_count": 25,
   "id": "6a730f7d-2b32-4234-8775-073a93b2396b",
   "metadata": {},
   "outputs": [
    {
     "name": "stdout",
     "output_type": "stream",
     "text": [
      "1\n"
     ]
    }
   ],
   "source": [
    "###np.argmin(): Bir dizinin minimum elemanının indeksini döndürür.\n",
    " \n",
    "arr = np.array([3, 1, 2])\n",
    "argmin_val = np.argmin(arr)\n",
    "print(argmin_val)"
   ]
  },
  {
   "cell_type": "code",
   "execution_count": 27,
   "id": "4d3549d5-d3be-412b-9a23-38beb53e323f",
   "metadata": {},
   "outputs": [
    {
     "name": "stdout",
     "output_type": "stream",
     "text": [
      "[1 2 3 4 5 6]\n"
     ]
    }
   ],
   "source": [
    "###np.concatenate(): İki veya daha fazla diziyi birleştirir.\n",
    " \n",
    "arr1 = np.array([1, 2, 3])\n",
    "arr2 = np.array([4, 5, 6])\n",
    "concatenated_arr = np.concatenate((arr1, arr2))\n",
    "print(concatenated_arr)"
   ]
  },
  {
   "cell_type": "code",
   "execution_count": null,
   "id": "2ca680f5-9da0-4da3-bb84-d4ad59303bd6",
   "metadata": {},
   "outputs": [],
   "source": []
  }
 ],
 "metadata": {
  "kernelspec": {
   "display_name": "Python [conda env:base] *",
   "language": "python",
   "name": "conda-base-py"
  },
  "language_info": {
   "codemirror_mode": {
    "name": "ipython",
    "version": 3
   },
   "file_extension": ".py",
   "mimetype": "text/x-python",
   "name": "python",
   "nbconvert_exporter": "python",
   "pygments_lexer": "ipython3",
   "version": "3.12.7"
  }
 },
 "nbformat": 4,
 "nbformat_minor": 5
}
